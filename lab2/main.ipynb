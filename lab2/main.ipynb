{
 "cells": [
  {
   "cell_type": "markdown",
   "metadata": {},
   "source": [
    "# Libraries"
   ]
  },
  {
   "cell_type": "code",
   "execution_count": 1,
   "metadata": {},
   "outputs": [],
   "source": [
    "__author__ = \"Gabriele Greco\"\n",
    "import random\n",
    "import logging\n",
    "from collections import namedtuple\n",
    "from collections import Counter\n",
    "from matplotlib import pyplot as plt"
   ]
  },
  {
   "cell_type": "markdown",
   "metadata": {},
   "source": [
    "# Functions"
   ]
  },
  {
   "cell_type": "code",
   "execution_count": 2,
   "metadata": {},
   "outputs": [],
   "source": [
    "Individual = namedtuple(\"Individual\", [\"genome\", \"fitness\"])\n",
    "\n",
    "def evaluate(gen):\n",
    "    count = Counter()\n",
    "    count.update(sum((e for e in gen), start=()))\n",
    "    return len(count), -count.total() # len(count) length of my gen elements (without duplicate)\n",
    "\n",
    "def tournament(population, tournament_size=2): # Return from 2 individuals the one with higher fitness\n",
    "    return max(random.choices(population, k=tournament_size), key=lambda i: i.fitness)\n",
    "\n",
    "def cross_over(g1, g2):\n",
    "    if (len(g1) > len(g2)):\n",
    "        len_small = len(g2)\n",
    "    else:\n",
    "        len_small = len(g1)\n",
    "    cut2 = random.randint(1, len_small)\n",
    "    cut1 = random.randint(cut2-1, len_small-1)\n",
    "\n",
    "    return set(list(g1)[cut1:] + list(g2)[:cut2])\n",
    "\n",
    "def mutation(g, all_lists):\n",
    "    new_gen = set(g) \n",
    "    r = random.choice(list(new_gen)) # modify our solution randomly\n",
    "    new_gen.remove(r)  # remove one random element from our solution\n",
    "    new_set = random.choice(list(all_lists - g)) # we pick a new random element given by our full list of sets minus the elements that we already have\n",
    "    new_gen.add(tuple(new_set)) # add the new element to our solution\n",
    "    return new_gen"
   ]
  },
  {
   "cell_type": "markdown",
   "metadata": {},
   "source": [
    "# Initial Population"
   ]
  },
  {
   "cell_type": "code",
   "execution_count": 3,
   "metadata": {},
   "outputs": [],
   "source": [
    "def problem(N, seed=None): # Generator of sets\n",
    "    random.seed(seed)\n",
    "    return [\n",
    "        list(set(random.randint(0, N - 1) for n in range(random.randint(N // 5, N // 2))))\n",
    "        for n in range(random.randint(N, N * 5))\n",
    "    ]\n",
    "\n",
    "def create_population(all_lists):\n",
    "    population = list()\n",
    "    for genome in all_lists:\n",
    "        gen = set()\n",
    "        gen.add(genome)\n",
    "        population.append(Individual(gen, evaluate(gen)))\n",
    "    return population"
   ]
  },
  {
   "cell_type": "markdown",
   "metadata": {},
   "source": [
    "# Evolution"
   ]
  },
  {
   "cell_type": "code",
   "execution_count": 4,
   "metadata": {},
   "outputs": [],
   "source": [
    "def evolution(population, population_size, mutation_rate, all_lists, NUM_GENERATIONS):\n",
    "    offspring_size = int(population_size / 2)    \n",
    "    fitness_log = [(0, i.fitness) for i in population]\n",
    "    for g in range(NUM_GENERATIONS):\n",
    "        offspring = list()\n",
    "        for i in range(offspring_size):\n",
    "            if random.random() < mutation_rate: # mutation on one random gene\n",
    "                parent = tournament(population)\n",
    "                o = mutation(parent.genome, all_lists)\n",
    "            else: # otherwise we pick 2 random parents and thanks to the crossover between them we create a new individuals\n",
    "                parent1 = tournament(population)  # parent1\n",
    "                parent2 = tournament(population)  # parent2\n",
    "                o = cross_over(parent1.genome, parent2.genome)\n",
    "            f = evaluate(o) # fitness function\n",
    "            fitness_log.append((g + 1, f))\n",
    "            offspring.append(Individual(o, f)) # all offspring created in one generation\n",
    "        population += offspring # after one generation add the offspring to the population\n",
    "        population = sorted(population, key=lambda i: i.fitness, reverse=True)[:population_size]  # we pick only the best population_size individuals\n",
    "    return population, fitness_log"
   ]
  },
  {
   "cell_type": "markdown",
   "metadata": {},
   "source": [
    "# Genetic Algorithm"
   ]
  },
  {
   "cell_type": "code",
   "execution_count": 5,
   "metadata": {},
   "outputs": [],
   "source": [
    "def main():\n",
    "    logging.getLogger().setLevel(logging.INFO)\n",
    "    for N in [5, 10, 20, 50, 100, 500, 1000]: # 5, 10, 20, 50, 100, 500, 1000 \n",
    "        NUM_GENERATIONS = (N * 2) + 50\n",
    "        mutation_rate = 0.55 # started from 0.3 -> 0.45 -> 0.55 -> 0.90, 0.55 is the best\n",
    "        all_lists = set(tuple(_) for _ in problem(N, 42)) # SEED = 42\n",
    "        population = create_population(all_lists)\n",
    "        population_size = len(population)\n",
    "\n",
    "        solution, fitness_log = evolution(population, population_size, mutation_rate, all_lists, NUM_GENERATIONS)\n",
    "        w = (-solution[0][1][1])\n",
    "        logging.info(f\" Solution for N={N:,}: \" + f\"w={w} \" + f\"(bloat={(w-N)/N*100:.0f}%) \" + f\"Fitness calls={len(fitness_log)}\")"
   ]
  },
  {
   "cell_type": "code",
   "execution_count": 6,
   "metadata": {},
   "outputs": [
    {
     "name": "stderr",
     "output_type": "stream",
     "text": [
      "INFO:root: Solution for N=5: w=5 (bloat=0%) Fitness calls=310\n",
      "INFO:root: Solution for N=10: w=10 (bloat=0%) Fitness calls=1512\n",
      "INFO:root: Solution for N=20: w=24 (bloat=20%) Fitness calls=1564\n",
      "INFO:root: Solution for N=50: w=79 (bloat=58%) Fitness calls=16113\n",
      "INFO:root: Solution for N=100: w=187 (bloat=87%) Fitness calls=53677\n",
      "INFO:root: Solution for N=500: w=1338 (bloat=168%) Fitness calls=951009\n",
      "INFO:root: Solution for N=1,000: w=3024 (bloat=202%) Fitness calls=3712069\n"
     ]
    }
   ],
   "source": [
    "if __name__ == '__main__':\n",
    "    main()"
   ]
  }
 ],
 "metadata": {
  "kernelspec": {
   "display_name": "Python 3.10.7 ('lab2-9dJC2RpE-py3.10')",
   "language": "python",
   "name": "python3"
  },
  "language_info": {
   "codemirror_mode": {
    "name": "ipython",
    "version": 3
   },
   "file_extension": ".py",
   "mimetype": "text/x-python",
   "name": "python",
   "nbconvert_exporter": "python",
   "pygments_lexer": "ipython3",
   "version": "3.10.7"
  },
  "orig_nbformat": 4,
  "vscode": {
   "interpreter": {
    "hash": "dc77241b092b74d3d24716a9177bc26e145b581eea86392efc30133f69aa7b12"
   }
  }
 },
 "nbformat": 4,
 "nbformat_minor": 2
}
