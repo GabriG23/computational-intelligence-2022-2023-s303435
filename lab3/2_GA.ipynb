{
 "cells": [
  {
   "cell_type": "markdown",
   "metadata": {},
   "source": [
    "# Libraries"
   ]
  },
  {
   "cell_type": "code",
   "execution_count": 2,
   "metadata": {},
   "outputs": [],
   "source": [
    "__author__ = \"Gabriele Greco & Davide Aiello\"\n",
    "import random\n",
    "import logging\n",
    "from collections import namedtuple\n",
    "from typing import Callable\n",
    "from copy import deepcopy\n",
    "from itertools import accumulate\n",
    "from operator import xor"
   ]
  },
  {
   "cell_type": "markdown",
   "metadata": {},
   "source": [
    "# Nim Class"
   ]
  },
  {
   "cell_type": "code",
   "execution_count": 3,
   "metadata": {},
   "outputs": [],
   "source": [
    "Nimply = namedtuple(\"Nimply\", \"row, num_objects\")"
   ]
  },
  {
   "cell_type": "code",
   "execution_count": 4,
   "metadata": {},
   "outputs": [],
   "source": [
    "class Nim:\n",
    "    def __init__(self, num_rows: int, k: int = None) -> None:\n",
    "        self._rows = [i * 2 + 1 for i in range(num_rows)]\n",
    "        self._k = k\n",
    "\n",
    "    def __bool__(self):\n",
    "        return sum(self._rows) > 0\n",
    "\n",
    "    def __str__(self):\n",
    "        return \"<\" + \" \".join(str(_) for _ in self._rows) + \">\"\n",
    "\n",
    "    @property\n",
    "    def rows(self) -> tuple:\n",
    "        return tuple(self._rows)\n",
    "\n",
    "    @property\n",
    "    def k(self) -> int:\n",
    "        return self._k\n",
    "\n",
    "    def nimming(self, ply: Nimply) -> None:\n",
    "        row, num_objects = ply\n",
    "        assert self._rows[row] >= num_objects\n",
    "        assert self._k is None or num_objects <= self._k\n",
    "        self._rows[row] -= num_objects"
   ]
  },
  {
   "cell_type": "markdown",
   "metadata": {},
   "source": [
    "# Nimsum"
   ]
  },
  {
   "cell_type": "code",
   "execution_count": 5,
   "metadata": {},
   "outputs": [],
   "source": [
    "def nim_sum(state: Nim) -> int:\n",
    "    *_, result = accumulate(state.rows, xor)\n",
    "    return result\n",
    "\n",
    "def cook_status(state: Nim) -> dict:\n",
    "    cooked = dict()\n",
    "    cooked[\"possible_moves\"] = [\n",
    "        (r, o) for r, c in enumerate(state.rows) for o in range(1, c + 1) if state.k is None or o <= state.k\n",
    "    ]\n",
    "    cooked[\"active_rows_number\"] = sum(o > 0 for o in state.rows)\n",
    "    cooked[\"shortest_row\"] = min((x for x in enumerate(state.rows) if x[1] > 0), key=lambda y: y[1])[0]\n",
    "    cooked[\"longest_row\"] = max((x for x in enumerate(state.rows)), key=lambda y: y[1])[0]\n",
    "    cooked[\"nim_sum\"] = nim_sum(state)\n",
    "\n",
    "    brute_force = list()\n",
    "    for m in cooked[\"possible_moves\"]:\n",
    "        tmp = deepcopy(state)\n",
    "        tmp.nimming(m)\n",
    "        brute_force.append((m, nim_sum(tmp)))\n",
    "    cooked[\"brute_force\"] = brute_force\n",
    "\n",
    "    return cooked\n",
    "\n",
    "def optimal_strategy(state: Nim) -> Nimply:\n",
    "    data = cook_status(state)\n",
    "    return next((bf for bf in data[\"brute_force\"] if bf[1] == 0), random.choice(data[\"brute_force\"]))[0]"
   ]
  },
  {
   "cell_type": "markdown",
   "metadata": {},
   "source": [
    "# Task 2: Evolved rules"
   ]
  },
  {
   "cell_type": "code",
   "execution_count": 6,
   "metadata": {},
   "outputs": [],
   "source": [
    "POPULATION_SIZE = 20           \n",
    "OFFSPRING_SIZE = 10         \n",
    "\n",
    "NUM_GENERATIONS = 100        \n",
    "\n",
    "TOURNAMENT_SIZE = 2\n",
    "GENETIC_OPERATOR_RANDOMNESS = 0.7\n",
    "logging.getLogger().setLevel(logging.INFO)\n",
    "\n",
    "NUM_MATCHES = 100\n",
    "NIM_SIZE = 11\n",
    "k = 6"
   ]
  },
  {
   "cell_type": "code",
   "execution_count": 11,
   "metadata": {},
   "outputs": [],
   "source": [
    "def shortest_row(state: Nim) -> Nimply:\n",
    "    row = min((x for x in enumerate(state.rows) if x[1] > 0), key=lambda y: y[1])[0]\n",
    "    if(state.rows[row] > k):\n",
    "       num_objects = random.randint(1, k)\n",
    "    else:\n",
    "       num_objects = state.rows[row]\n",
    "    return Nimply(row, num_objects)\n",
    "\n",
    "def Davide_strategy(state: Nim) -> Nimply:\n",
    "    possible_moves = [(r, o) for r, c in enumerate(state.rows) for o in range(1, c + 1)]\n",
    "    if any([True for i in possible_moves if i[1] > 1]):\n",
    "        obj = 0\n",
    "        while(obj == 0):\n",
    "            row_num = random.randint(0, len(state.rows) - 1)\n",
    "            if state.rows[row_num] > 0:\n",
    "                obj = max([i[1] for i in possible_moves if i[0] == row_num], key=lambda i:i)\n",
    "                if obj > k:\n",
    "                    obj = k\n",
    "                ply = Nimply(row_num, obj)\n",
    "    else: \n",
    "        ply = None\n",
    "        while ply == None or ply[1] > k:\n",
    "            ply = Nimply(*possible_moves[random.randint(0, len(possible_moves) - 1)])\n",
    "    return ply\n",
    "\n",
    "def GabriG_strategy(state: Nim) -> Nimply:\n",
    "    row = min((x for x in enumerate(state.rows) if x[1] > 0), key=lambda y: y[1])[0]\n",
    "    if(state.rows[row] <= state.k):\n",
    "        num_objects = state.rows[row]\n",
    "    else:\n",
    "        if(state.rows[row] > (state.k*2)):\n",
    "            num_objects = state.k\n",
    "        else:\n",
    "            num_objects = state.rows[row] - state.k - 1\n",
    "    return Nimply(row, num_objects)\n",
    "\n",
    "def longest_row(state: Nim) -> Nimply:\n",
    "    row = max((x for x in enumerate(state.rows) if x[1] > 0), key=lambda y: y[1])[0]\n",
    "    if(state.rows[row] > k):\n",
    "       num_objects = random.randint(1, k)\n",
    "    else:\n",
    "       num_objects = state.rows[row]\n",
    "    return Nimply(row, num_objects)\n",
    "\n",
    "def pure_random(state: Nim) -> Nimply:        \n",
    "    row = random.choice([r for r, c in enumerate(state.rows) if c > 0]) \n",
    "    num_objects = None\n",
    "    while num_objects == None or num_objects > k:    \n",
    "        num_objects = random.randint(1, state.rows[row])                     \n",
    "    return Nimply(row, num_objects)\n",
    "\n",
    "Individual = namedtuple(\"Individual\", [\"genome\", \"fitness\"])\n",
    "\n",
    "def tournament(population, tournament_size=TOURNAMENT_SIZE):          \n",
    "    return max(random.choices(population, k=tournament_size), key=lambda i: i.fitness) \n",
    "\n",
    "def reweigth_prob(g):\n",
    "    actual_sum = sum(g)\n",
    "    for i in range(len(g)):\n",
    "        if actual_sum == 0:\n",
    "            break\n",
    "        g[i] = g[i] / actual_sum\n",
    "    return g\n",
    "\n",
    "def uniform_cross_over(g1, g2, strategy: list):\n",
    "    new_genoma = []\n",
    "    for i in range(len(strategy)):\n",
    "        if i%2:\n",
    "            new_genoma.append(g1[i])\n",
    "        else:\n",
    "            new_genoma.append(g2[i])\n",
    "    new_genoma = reweigth_prob(new_genoma)\n",
    "    return tuple(new_genoma)\n",
    "\n",
    "def mutation(g, strategy: list):                                \n",
    "    point = random.randint(0, len(strategy) - 1)\n",
    "    if random.random() < .5:   \n",
    "        g =  g[:point] + (g[point] +.05,) + g[point + 1 :]     \n",
    "    else:\n",
    "        g = g[:point] + (g[point] -.05,) + g[point + 1 :]\n",
    "    g = [i for i in g]\n",
    "    return tuple(reweigth_prob(g))\n",
    "\n",
    "def compute_fitness(genome, strategy: list):   \n",
    "    s =  max(enumerate(genome), key=lambda x: x[1])[0]                     \n",
    "    won = 0\n",
    "    for m in range(NUM_MATCHES):\n",
    "        nim = Nim(NIM_SIZE, k)\n",
    "        player = 0\n",
    "        while nim:\n",
    "            if player == 0:\n",
    "                ply = optimal_strategy(nim)\n",
    "                #ply = pure_random(nim)\n",
    "            else:\n",
    "                ply = strategy[s](nim)\n",
    "            nim.nimming(ply)\n",
    "            player = 1 - player\n",
    "        winner = 1 - player\n",
    "        if winner == 1:\n",
    "            won += 1\n",
    "    return won / NUM_MATCHES"
   ]
  },
  {
   "cell_type": "code",
   "execution_count": 12,
   "metadata": {},
   "outputs": [],
   "source": [
    "def create_population(strategy: list): \n",
    "   population = list()\n",
    "   for genome in [tuple(1/len(strategy) for _ in range(len(strategy)))]:    \n",
    "      population.append(Individual(genome, compute_fitness(genome, strategy))) \n",
    "   return population"
   ]
  },
  {
   "cell_type": "code",
   "execution_count": 13,
   "metadata": {},
   "outputs": [],
   "source": [
    "def play():\n",
    "    strategy = [shortest_row, Davide_strategy, GabriG_strategy, longest_row, pure_random]\n",
    "    population = create_population(strategy)\n",
    "    fitness_log = [(0, i.fitness) for i in population]  \n",
    "    for g in range(NUM_GENERATIONS):\n",
    "        offspring = list()\n",
    "        for i in range(OFFSPRING_SIZE):\n",
    "            if random.random() < GENETIC_OPERATOR_RANDOMNESS:                         \n",
    "                p = tournament(population)                  \n",
    "                o = mutation(p.genome, strategy)                    \n",
    "            else:                                          \n",
    "                p1 = tournament(population)                 \n",
    "                p2 = tournament(population)\n",
    "                o = uniform_cross_over(p1.genome, p2.genome, strategy)          \n",
    "            f = compute_fitness(o, strategy)                                      \n",
    "            fitness_log.append((g + 1, f))                     \n",
    "            offspring.append(Individual(o, f))                 \n",
    "        population += offspring    \n",
    "        population = sorted(population, key=lambda i: i[1], reverse=True)[:POPULATION_SIZE]\n",
    "    return strategy[max(enumerate(population[0][0]), key=lambda x: x[1])[0]], population[0][1] * 100"
   ]
  },
  {
   "cell_type": "markdown",
   "metadata": {},
   "source": [
    "# Main"
   ]
  },
  {
   "cell_type": "code",
   "execution_count": 14,
   "metadata": {},
   "outputs": [
    {
     "name": "stderr",
     "output_type": "stream",
     "text": [
      "INFO:root:The best strategy is<function GabriG_strategy at 0x000002019C1B9F30> with 100.0% winrate (fitness)\n"
     ]
    }
   ],
   "source": [
    "logging.getLogger().setLevel(logging.DEBUG)\n",
    "\n",
    "strat, fitness = play()\n",
    "logging.info(f\"The best strategy is{strat} with {fitness}% winrate (fitness)\")"
   ]
  }
 ],
 "metadata": {
  "kernelspec": {
   "display_name": "Python 3.10.7 64-bit",
   "language": "python",
   "name": "python3"
  },
  "language_info": {
   "codemirror_mode": {
    "name": "ipython",
    "version": 3
   },
   "file_extension": ".py",
   "mimetype": "text/x-python",
   "name": "python",
   "nbconvert_exporter": "python",
   "pygments_lexer": "ipython3",
   "version": "3.10.7"
  },
  "orig_nbformat": 4,
  "vscode": {
   "interpreter": {
    "hash": "eb79ab85006438da29af4cfb9f533733debcbb631a03e8ea803cabccdaccbcf1"
   }
  }
 },
 "nbformat": 4,
 "nbformat_minor": 2
}
