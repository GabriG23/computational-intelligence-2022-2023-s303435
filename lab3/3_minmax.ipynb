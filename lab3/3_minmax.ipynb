{
 "cells": [
  {
   "cell_type": "markdown",
   "metadata": {},
   "source": [
    "# Libraries"
   ]
  },
  {
   "cell_type": "code",
   "execution_count": 2,
   "metadata": {},
   "outputs": [],
   "source": [
    "__author__ = \"Gabriele Greco\"\n",
    "import random\n",
    "import logging\n",
    "from collections import namedtuple\n",
    "from copy import deepcopy\n",
    "from itertools import accumulate\n",
    "from operator import xor"
   ]
  },
  {
   "cell_type": "markdown",
   "metadata": {},
   "source": [
    "# Nim class"
   ]
  },
  {
   "cell_type": "code",
   "execution_count": 3,
   "metadata": {},
   "outputs": [],
   "source": [
    "Nimply = namedtuple(\"Nimply\", \"row, num_objects\")"
   ]
  },
  {
   "cell_type": "code",
   "execution_count": 4,
   "metadata": {},
   "outputs": [],
   "source": [
    "class Nim:\n",
    "    def __init__(self, num_rows: int, k: int = None) -> None:\n",
    "        self._rows = [i * 2 + 1 for i in range(num_rows)]\n",
    "        self._k = k\n",
    "\n",
    "    def __bool__(self):\n",
    "        return sum(self._rows) > 0\n",
    "\n",
    "    def __str__(self):\n",
    "        return \"<\" + \" \".join(str(_) for _ in self._rows) + \">\"\n",
    "\n",
    "    @property\n",
    "    def rows(self) -> tuple:\n",
    "        return tuple(self._rows)\n",
    "\n",
    "    @property\n",
    "    def k(self) -> int:\n",
    "        return self._k\n",
    "\n",
    "    def nimming(self, ply: Nimply) -> None:\n",
    "        row, num_objects = ply\n",
    "        assert self._rows[row] >= num_objects\n",
    "        assert self._k is None or num_objects <= self._k\n",
    "        self._rows[row] -= num_objects"
   ]
  },
  {
   "cell_type": "markdown",
   "metadata": {},
   "source": [
    "### Strategies"
   ]
  },
  {
   "cell_type": "code",
   "execution_count": 5,
   "metadata": {},
   "outputs": [],
   "source": [
    "def pure_random(state: Nim) -> Nimply: # take a random row and select random elements (always < k)\n",
    "    row = random.choice([r for r, c in enumerate(state.rows) if c > 0])\n",
    "    if(state.rows[row] > state.k):\n",
    "        num_objects = random.randint(1, state.k)\n",
    "    else:\n",
    "        num_objects = random.randint(1, state.rows[row])\n",
    "    return Nimply(row, num_objects)\n",
    "\n",
    "def shortest_row(state: Nim) -> Nimply: # take the shortest row and select random elements if the matches > k otherwise close the row\n",
    "    row = min((x for x in enumerate(state.rows) if x[1] > 0), key=lambda y: y[1])[0]\n",
    "    if(state.rows[row] > state.k):\n",
    "       num_objects = random.randint(1, state.k)\n",
    "    else:\n",
    "       num_objects = state.rows[row]\n",
    "    return Nimply(row, num_objects)"
   ]
  },
  {
   "cell_type": "code",
   "execution_count": 6,
   "metadata": {},
   "outputs": [],
   "source": [
    "# algorithm taken from professor's code\n",
    "def nim_sum(state: Nim) -> int:\n",
    "    *_, result = accumulate(state.rows, xor)\n",
    "    return result\n",
    "\n",
    "def cook_status(state: Nim) -> dict:\n",
    "    cooked = dict()\n",
    "    cooked[\"possible_moves\"] = [\n",
    "        (r, o) for r, c in enumerate(state.rows) for o in range(1, c + 1) if state.k is None or o <= state.k\n",
    "    ]\n",
    "    cooked[\"active_rows_number\"] = sum(o > 0 for o in state.rows)\n",
    "    cooked[\"shortest_row\"] = min((x for x in enumerate(state.rows) if x[1] > 0), key=lambda y: y[1])[0]\n",
    "    cooked[\"longest_row\"] = max((x for x in enumerate(state.rows)), key=lambda y: y[1])[0]\n",
    "    cooked[\"nim_sum\"] = nim_sum(state)\n",
    "\n",
    "    brute_force = list()\n",
    "    for m in cooked[\"possible_moves\"]:\n",
    "        tmp = deepcopy(state)\n",
    "        tmp.nimming(m)\n",
    "        brute_force.append((m, nim_sum(tmp)))\n",
    "    cooked[\"brute_force\"] = brute_force\n",
    "\n",
    "    return cooked\n",
    "\n",
    "def optimal_strategy(state: Nim) -> Nimply:\n",
    "    data = cook_status(state)\n",
    "    return next((bf for bf in data[\"brute_force\"] if bf[1] == 0), random.choice(data[\"brute_force\"]))[0]"
   ]
  },
  {
   "cell_type": "markdown",
   "metadata": {},
   "source": [
    "# Task 3: Minmax"
   ]
  },
  {
   "cell_type": "code",
   "execution_count": 31,
   "metadata": {},
   "outputs": [],
   "source": [
    "def evaluation(state: Nim):\n",
    "    if sum(o > 0 for o in state.rows) == 0:\n",
    "       return -1 # you lost\n",
    "    if sum(o > 0 for o in state.rows) > 1:\n",
    "        return 0 # you haven't lost or won\n",
    "    if sum(o > 0 for o in state.rows) == 1:\n",
    "        row = min((x for x in enumerate(state.rows) if x[1] > 0), key=lambda y: y[1])[0]\n",
    "        if state.rows[row] - state.k <= 0:\n",
    "              return 1 # you won\n",
    "        else:\n",
    "              return 0 # you haven't lost or won\n",
    "\n",
    "def minmax_nim(state: Nim, depth: int, isMax: bool):\n",
    "   \n",
    "   value = evaluation(state)\n",
    "   possible_moves = [(r, o) for r, c in enumerate(state.rows) for o in range(1, c + 1) if state.k is None or o <= state.k]\n",
    "   if depth == 0 or value != 0 or not possible_moves: # checking depth, evaluation value and possible_moves\n",
    "      return 0, value # return heuristic value of node\n",
    "   tmp = deepcopy(state) # copy of state\n",
    "   evaluations = list()\n",
    "   if isMax: # maximizer's move, my move\n",
    "        for ply in possible_moves: # for each child of node\n",
    "            tmp.nimming(ply)\n",
    "            _, value = minmax_nim(tmp, depth + 1, False)\n",
    "            evaluations.append((ply, value))\n",
    "            return max(evaluations, key=lambda k: k[1])\n",
    "   else: # minimizer's move, opponent's move\n",
    "        for ply in possible_moves: # for each child of node\n",
    "             tmp.nimming(ply)\n",
    "             _, value = minmax_nim(tmp, depth + 1, True)\n",
    "             evaluations.append((ply, value))\n",
    "             return max(evaluations, key=lambda k: k[1])\n",
    "\n",
    "def find_best_move(state: Nim):\n",
    "    bestMove = pure_random(state) # standard move, if he'll find something better he'll change it\n",
    "    bestVal = -2 # starting from a negative value\n",
    "    possible_moves = [(r, o) for r, c in enumerate(state.rows) for o in range(1, c + 1) if state.k is None or o <= state.k]\n",
    "    for ply in possible_moves:\n",
    "        tmp = deepcopy(state)\n",
    "        tmp.nimming(ply)\n",
    "        _, moveVal = minmax_nim(tmp, -4, False) # False = this is the max move, the next one is min\n",
    "        if(moveVal > bestVal):\n",
    "            bestMove = ply\n",
    "            bestVal = moveVal\n",
    "            break   # already found an optimal solution we can leave the loop          \n",
    "    return bestMove"
   ]
  },
  {
   "cell_type": "code",
   "execution_count": 74,
   "metadata": {},
   "outputs": [],
   "source": [
    "def play(N, turn):\n",
    "    countwin = 0\n",
    "    while(N):\n",
    "        rows = random.randint(3, 6) # number of rows\n",
    "        k = random.randint(1, 4) # upperbound of selected matches\n",
    "        #rows = random.randint(4, 13) # number of rows\n",
    "        #k = random.randint(3, 8) # upperbound of selected matches\n",
    "        #rows = 5\n",
    "        #k = 2\n",
    "        if(turn == 0): # who starts first\n",
    "           player = 1\n",
    "        else:\n",
    "           player = 0\n",
    "        nim = Nim(rows, k) # creating the nim\n",
    "        #logging.info(f\"Initial Board -> {nim}\")\n",
    "        while(nim):\n",
    "           if(player == 0):\n",
    "              #ply = pure_random(nim)\n",
    "              ply = optimal_strategy(nim)\n",
    "              #ply = shortest_row(nim)\n",
    "           else:\n",
    "              ply = find_best_move(nim)\n",
    "           #logging.info(f\"Move of player {player} -> {ply}\")\n",
    "           nim.nimming(ply)\n",
    "           #logging.info(f\"Board after player {player} -> {nim}\")\n",
    "           player = 1 - player\n",
    "        if(1 - player == 1): # winner = 1 - player\n",
    "               countwin += 1  \n",
    "        N -= 1             \n",
    "\n",
    "    return countwin"
   ]
  },
  {
   "cell_type": "markdown",
   "metadata": {},
   "source": [
    "# Main"
   ]
  },
  {
   "cell_type": "code",
   "execution_count": 75,
   "metadata": {},
   "outputs": [
    {
     "name": "stderr",
     "output_type": "stream",
     "text": [
      "INFO:root:Game played = 100: Winrate 1° player = 12.0% \n",
      "INFO:root:Game played = 1000: Winrate 1° player = 13.3% \n",
      "INFO:root:Game played = 100: Winrate 2° player = 18.0% \n",
      "INFO:root:Game played = 1000: Winrate 2° player = 13.0% \n"
     ]
    }
   ],
   "source": [
    "logging.getLogger().setLevel(logging.DEBUG)\n",
    "\n",
    "for N in [100, 1000]: # game to played as First Player\n",
    "    countwin = play(N, 0)\n",
    "    logging.info(f\"Game played = {N}: \" f\"Winrate 1° player = {(countwin/N)*100}% \")\n",
    "for N in [100, 1000]: # game to played as Second Player\n",
    "    countwin = play(N, 1)\n",
    "    logging.info(f\"Game played = {N}: \" f\"Winrate 2° player = {(countwin/N)*100}% \")"
   ]
  }
 ],
 "metadata": {
  "kernelspec": {
   "display_name": "Python 3.10.7 64-bit",
   "language": "python",
   "name": "python3"
  },
  "language_info": {
   "codemirror_mode": {
    "name": "ipython",
    "version": 3
   },
   "file_extension": ".py",
   "mimetype": "text/x-python",
   "name": "python",
   "nbconvert_exporter": "python",
   "pygments_lexer": "ipython3",
   "version": "3.10.7"
  },
  "orig_nbformat": 4,
  "vscode": {
   "interpreter": {
    "hash": "eb79ab85006438da29af4cfb9f533733debcbb631a03e8ea803cabccdaccbcf1"
   }
  }
 },
 "nbformat": 4,
 "nbformat_minor": 2
}
